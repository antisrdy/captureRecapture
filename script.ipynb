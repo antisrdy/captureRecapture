{
 "cells": [
  {
   "cell_type": "code",
   "execution_count": null,
   "metadata": {
    "collapsed": false
   },
   "outputs": [],
   "source": [
    "import numpy as np\n",
    "%pylab inline\n",
    "import pandas as pd\n",
    "import seaborn as sns\n",
    "import scipy\n",
    "import matplotlib.pyplot as plt\n",
    "import statsmodels"
   ]
  },
  {
   "cell_type": "code",
   "execution_count": null,
   "metadata": {
    "collapsed": true
   },
   "outputs": [],
   "source": [
    "# Beta density (a,b)\n",
    "def betaDensity(a,b,x):\n",
    "    coeff = math.factorial(a - 1) * math.factorial(b - 1) / math.factorial(a + b - 1)\n",
    "    res = x**(a - 1) * (1 - x)**(b - 1) / coeff\n",
    "    return(res)\n",
    "\n",
    "# Beta simulation via acceptance-rejection method\n",
    "def betaSimulation(a,b):\n",
    "    xmax = (a - 1)/(a + b - 2)\n",
    "    fxmax = betaDensity(a, b, xmax)\n",
    "    \n",
    "    x = -1\n",
    "    test = True\n",
    "    while test:\n",
    "        u = np.random.uniform()\n",
    "        y = np.random.uniform()\n",
    "        if u <= (betaDensity(a,b,y) / fxmax):\n",
    "            x = y\n",
    "            test = False\n",
    "    return x"
   ]
  },
  {
   "cell_type": "code",
   "execution_count": null,
   "metadata": {
    "collapsed": true
   },
   "outputs": [],
   "source": [
    "def verificationPlot(test, reference):\n",
    "    dfSim = pd.DataFrame(test)\n",
    "    dfPy = pd.DataFrame(reference)\n",
    "    sns.distplot(dfSim, color=\"y\", label= \"Manual simulation\")\n",
    "    sns.distplot(dfPy, hist=False, label = \"Numpy simulation\")\n",
    "    legend = plt.legend()\n",
    "    return True"
   ]
  },
  {
   "cell_type": "code",
   "execution_count": null,
   "metadata": {
    "collapsed": false
   },
   "outputs": [],
   "source": [
    "# Check Beta simulation\n",
    "N = 200000\n",
    "a = 3\n",
    "b = 5\n",
    "\n",
    "def multipleBetaSimulation(a, b, size = N):\n",
    "    beta = []\n",
    "    for i in range(N):\n",
    "        beta.append(betaSimulation(a,b))\n",
    "    return(beta)\n",
    "\n",
    "test = multipleBetaSimulation(a, b, size = N)\n",
    "reference = np.random.beta(a, b, size = N)\n",
    "\n",
    "verificationPlot(test, reference)"
   ]
  },
  {
   "cell_type": "code",
   "execution_count": null,
   "metadata": {
    "collapsed": false
   },
   "outputs": [],
   "source": [
    "# Bernouilli simulation\n",
    "def bernouilliSimulation(p):\n",
    "    u = np.random.uniform()\n",
    "    x = -1\n",
    "    if (u <= p): return(1)\n",
    "    return(0)\n",
    "\n",
    "# Geometric simulation\n",
    "def geometricSimulation(p):\n",
    "    test = True\n",
    "    i = 1\n",
    "    while test:\n",
    "        ber = bernouilliSimulation(p)\n",
    "        if ber == 1: test = False\n",
    "        else: i = i + 1\n",
    "    return(i - 1)\n",
    "\n",
    "# Negative binomial simulation\n",
    "def negBinSimulation(n, p):\n",
    "    Y = []\n",
    "    for i in range(n): Y.append(geometricSimulation(p))\n",
    "    return(sum(Y))"
   ]
  },
  {
   "cell_type": "code",
   "execution_count": null,
   "metadata": {
    "collapsed": false
   },
   "outputs": [],
   "source": [
    "# Check negative binomial simulation\n",
    "N = 200000\n",
    "n = 10\n",
    "p = 0.25\n",
    "\n",
    "def multipleNegBinSimulation(n, p, size = N):\n",
    "    negBin = []\n",
    "    for i in range(N):\n",
    "        negBin.append(negBinSimulation(n,p))\n",
    "    return(negBin)\n",
    "\n",
    "test = multipleNegBinSimulation(n, p, size = N)\n",
    "reference = np.random.negative_binomial(n, p, size = N)\n",
    "\n",
    "verificationPlot(test, reference)"
   ]
  },
  {
   "cell_type": "code",
   "execution_count": null,
   "metadata": {
    "collapsed": false
   },
   "outputs": [],
   "source": [
    "# Gibbs Sampler implementation\n",
    "# m1: 1st step capture\n",
    "# m2: unique 2nd step capture\n",
    "# m12: recapture\n",
    "def gibbs_sampler(nbIter, manual = False, m1 = 22, m2 = 60, m12 = 11):\n",
    "    mplus = m1 + m2\n",
    "    mc = m1 + m2 + m12\n",
    "    \n",
    "    # Conditional simulations of p|M, x and M - m+|p, x\n",
    "    # p|M,x ~ beta(mc + 1, 2*M  - mc + 1)\n",
    "    # M - m+|p,x ~ NegBin(m+, 1 - (1 - p)**2)\n",
    "    p = [] # \n",
    "    M = [] # In fact M - m+\n",
    "    \n",
    "    # Prior init\n",
    "    p.append(np.random.uniform())\n",
    "    \n",
    "    # Iterations\n",
    "    for t in range(nbIter):\n",
    "        if manual:\n",
    "            M.append(negBinSimulation(mplus, 1 - ((1 - p[t])**2)))\n",
    "            p.append(betaSimulation(mc + 1,2*(M[t] + mplus) - mc + 1))\n",
    "        else:\n",
    "            M.append(np.random.negative_binomial(mplus, 1 - ((1 - p[t])**2)))\n",
    "            p.append(np.random.beta(mc + 1,2*(M[t] + mplus) - mc + 1))\n",
    "    M = np.array(M)   \n",
    "    p = np.array(p)\n",
    "    M = M + mplus\n",
    "    print(scipy.stats.describe(M))\n",
    "    print(scipy.stats.describe(p))\n",
    "    return (M,p)\n",
    "\n",
    "def resultsExploitation(resultats):\n",
    "    fig, (ax1,ax2) = plt.subplots(1, 2, figsize=(20,8))\n",
    "    dfM = pd.DataFrame(resultats[0])\n",
    "    sns.distplot(dfM, ax = ax1, kde_kws={\"color\": \"k\", \"lw\": 1, \"label\": \"M\"})\n",
    "    dfp = pd.DataFrame(resultats[1])\n",
    "    sns.distplot(dfp, ax = ax2, kde_kws={\"color\": \"k\", \"lw\": 1, \"label\": \"p\"})\n",
    "    legend = plt.legend()"
   ]
  },
  {
   "cell_type": "code",
   "execution_count": null,
   "metadata": {
    "collapsed": false
   },
   "outputs": [],
   "source": [
    "# Python functions\n",
    "resultatsPython = gibbs_sampler(1000)"
   ]
  },
  {
   "cell_type": "code",
   "execution_count": null,
   "metadata": {
    "collapsed": false
   },
   "outputs": [],
   "source": [
    "resultsExploitation(resultatsPython)"
   ]
  },
  {
   "cell_type": "code",
   "execution_count": null,
   "metadata": {
    "collapsed": false
   },
   "outputs": [],
   "source": [
    "# Autocorrelograms\n",
    "statsmodels.graphics.tsaplots.plot_acf(resultatsPython[0], lags=200)"
   ]
  },
  {
   "cell_type": "code",
   "execution_count": null,
   "metadata": {
    "collapsed": false
   },
   "outputs": [],
   "source": [
    "# Trace\n",
    "sns.tsplot(resultatsPython[0][1:1000])"
   ]
  },
  {
   "cell_type": "code",
   "execution_count": null,
   "metadata": {
    "collapsed": false,
    "scrolled": true
   },
   "outputs": [],
   "source": [
    "# Own implementation of distributions\n",
    "resultatsManuel = gibbs_sampler(100000, manual=True)"
   ]
  },
  {
   "cell_type": "code",
   "execution_count": null,
   "metadata": {
    "collapsed": false
   },
   "outputs": [],
   "source": [
    "exploitationResultats(resultatsManuel)"
   ]
  },
  {
   "cell_type": "code",
   "execution_count": null,
   "metadata": {
    "collapsed": false
   },
   "outputs": [],
   "source": [
    "statsmodels.graphics.tsaplots.plot_acf(resultatsManuel[0], lags=200)"
   ]
  },
  {
   "cell_type": "code",
   "execution_count": null,
   "metadata": {
    "collapsed": false
   },
   "outputs": [],
   "source": [
    "# Monte-Carlo error\n",
    "def errorMC(nbItera, nbIteraGS, manuel = False, m1 = 22, m2 = 60, m12 = 11):\n",
    "    # Results\n",
    "    p = []\n",
    "    M = []\n",
    "    # nbItera Gibbs Sampler iterations\n",
    "    # Within each GS, nbIteraGS are done\n",
    "    for i in range(nbItera):\n",
    "        tmp = gibbs_sampler(nbIteraGS, manuel, m1, m2, m12)\n",
    "        M.append(mean(tmp[0]))\n",
    "        p.append(mean(tmp[1]))\n",
    "    print(scipy.stats.describe(M))\n",
    "    print(scipy.stats.describe(p))\n",
    "    return(M,p)"
   ]
  },
  {
   "cell_type": "code",
   "execution_count": null,
   "metadata": {
    "collapsed": false
   },
   "outputs": [],
   "source": [
    "errorMC_python = errorMC(5000, 10000)"
   ]
  }
 ],
 "metadata": {
  "kernelspec": {
   "display_name": "Python 3",
   "language": "python",
   "name": "python3"
  },
  "language_info": {
   "codemirror_mode": {
    "name": "ipython",
    "version": 3
   },
   "file_extension": ".py",
   "mimetype": "text/x-python",
   "name": "python",
   "nbconvert_exporter": "python",
   "pygments_lexer": "ipython3",
   "version": "3.5.1"
  }
 },
 "nbformat": 4,
 "nbformat_minor": 0
}
